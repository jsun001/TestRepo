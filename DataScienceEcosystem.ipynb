{
 "cells": [
  {
   "cell_type": "markdown",
   "id": "8cc38740-80e8-4c63-8c9b-82af166d8a03",
   "metadata": {},
   "source": [
    "# Data Science Tools and Ecosystem "
   ]
  },
  {
   "cell_type": "code",
   "execution_count": null,
   "id": "5e066e32-4938-40f0-9ce6-a68dede8c973",
   "metadata": {},
   "outputs": [],
   "source": [
    "\n",
    "\n",
    "\n",
    "\n",
    "\n",
    "\n",
    "\n",
    "\n",
    "\n",
    "\n",
    "\n",
    "\n",
    "\n",
    "\n",
    "\n",
    "\n",
    "\n",
    "\n",
    "\n",
    "\n",
    "\n",
    "\n",
    "\n",
    "\n",
    "\n",
    "\n",
    "\n",
    "\n",
    "\n",
    "\n",
    "\n",
    "\n",
    "\n",
    "\n",
    "\n",
    "\n",
    "\n",
    "\n",
    "\n",
    "\n",
    "\n",
    "\n"
   ]
  },
  {
   "cell_type": "markdown",
   "id": "42b9287d-47c5-46b8-9791-2231b29287a2",
   "metadata": {},
   "source": [
    "In this notebook, Data Science Tools and Ecosystem are summarized."
   ]
  },
  {
   "cell_type": "markdown",
   "id": "1387b3c3-955b-459b-b5da-ff1546f5d296",
   "metadata": {},
   "source": [
    "# Objectives\n",
    "* List data science languages\n",
    "* List data science libraries\n",
    "* Arithmetic expressions"
   ]
  },
  {
   "cell_type": "markdown",
   "id": "9e57865d-5dd1-4b7f-932a-eccb9d1b98f7",
   "metadata": {},
   "source": [
    "Some of the popular languages that Data Scientists use are:\n",
    "1. Python\n",
    "2. R\n",
    "3. Java\n",
    "4. C++\n",
    "5. Scala\n",
    "6. Julia"
   ]
  },
  {
   "cell_type": "markdown",
   "id": "8141c82d-f8fb-4b15-bc91-16323e6234f1",
   "metadata": {},
   "source": [
    "Some of the commonly used libraries used by Data Scientists include:\n",
    "1. NumPy\n",
    "2. Pandas\n",
    "3. Matplotlib\n",
    "4. Scikit-learn\n",
    "5. PyTorch\n",
    "6. Keras\n",
    "7. Plotly"
   ]
  },
  {
   "cell_type": "markdown",
   "id": "a29632f3-7871-4af2-b38c-13e63257970b",
   "metadata": {},
   "source": [
    "|Data Science tools|\n",
    "|---|\n",
    "|Jupyter Notebook|\n",
    "|Rstudio|\n",
    "|Git|"
   ]
  },
  {
   "cell_type": "code",
   "execution_count": null,
   "id": "ea963cba-cae4-426a-a3c3-2ffb92c6ed8d",
   "metadata": {},
   "outputs": [],
   "source": []
  },
  {
   "cell_type": "markdown",
   "id": "478b8f4c-661a-4c7b-a43d-7de1a38ddede",
   "metadata": {},
   "source": [
    "### Below are a few examples of evaluating arithmetic expressions in Python."
   ]
  },
  {
   "cell_type": "code",
   "execution_count": 2,
   "id": "432dd8d5-7928-48f2-8976-565827d5d4a1",
   "metadata": {},
   "outputs": [
    {
     "name": "stdout",
     "output_type": "stream",
     "text": [
      "17\n"
     ]
    }
   ],
   "source": [
    "# This is a simple arithmetic expression to multiply than add integers.\n",
    "a = (3*4)+5\n",
    "print(a)"
   ]
  },
  {
   "cell_type": "code",
   "execution_count": 5,
   "id": "e8278e0e-8241-4c72-ab06-9b5f072087d8",
   "metadata": {},
   "outputs": [
    {
     "name": "stdout",
     "output_type": "stream",
     "text": [
      "3.3333333333333335 hours\n"
     ]
    }
   ],
   "source": [
    "# This cell will convert 200 minutes to hours by dividing by 60.\n",
    "a = 200 \n",
    "b = 200/60\n",
    "print(b, \"hours\")"
   ]
  },
  {
   "cell_type": "markdown",
   "id": "f06fcc0b-03cc-468a-aef2-54a847df8ec5",
   "metadata": {},
   "source": [
    "## Author\n",
    "Yawei Hui"
   ]
  },
  {
   "cell_type": "code",
   "execution_count": null,
   "id": "309019ef-fad6-420c-ab8e-377ce187caa5",
   "metadata": {},
   "outputs": [],
   "source": []
  }
 ],
 "metadata": {
  "kernelspec": {
   "display_name": "Python 3 (ipykernel)",
   "language": "python",
   "name": "python3"
  },
  "language_info": {
   "codemirror_mode": {
    "name": "ipython",
    "version": 3
   },
   "file_extension": ".py",
   "mimetype": "text/x-python",
   "name": "python",
   "nbconvert_exporter": "python",
   "pygments_lexer": "ipython3",
   "version": "3.12.8"
  }
 },
 "nbformat": 4,
 "nbformat_minor": 5
}
